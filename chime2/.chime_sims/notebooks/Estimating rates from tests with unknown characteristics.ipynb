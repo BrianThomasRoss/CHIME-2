{
 "cells": [
  {
   "cell_type": "markdown",
   "metadata": {},
   "source": [
    "# Estimating Recovered Rate from Serology tests with unknown test charactaristics\n",
    "\n",
    "**DISCLAIMER: Work in progress. Results unverified.**\n",
    "\n",
    "> Corey Chivers <corey.chivers@pennmedicine.upenn.edu>\n",
    "\n",
    "### Goal:\n",
    "Estimate the proportion $\\theta$ of recovered individuals in a population from a serological survey\n",
    "\n",
    "### Challenge:\n",
    "The test charactaristics (sensitivity & specificity) are unknown.\n",
    "\n",
    "### Approach:\n",
    "Use a Bayesian approach and evaluate the effect of prior probability assumptions over sensitivity, sensitivity, and $\\theta$ on our estimate $\\hat{\\theta}$.\n",
    "\n",
    "\n",
    "Under a perfect testing regime ($sens=spec=1.0$), we can directly compute the posterior distribution of $\\theta$ given observasions D as:\n",
    "\n",
    "$$P(\\theta \\vert D) \\sim \\beta(D^{+} + 1, D^{-} + 1)$$\n",
    "\n",
    "Where $D^{+}$ is the number of test-positive cases, and $D^{-}$ is the number of test-negative cases, assuming a uniform prior on $\\theta$. Non-uniform priors can be incorporated by adding to the two $\\beta$ distribution parameters proportional to the disired strength of the prior.\n",
    "\n",
    "For an imperfect test, we know that only a fraction of the observed test-positives $D_{o}^{+}$ (subscripted $o$) are actual positives  $D_{a}^{+}$ (subscripted $a$). Similarly for negatives. Since:\n",
    "$$Sens = \\frac{TP}{P}$$\n",
    "and\n",
    "$$Spec = \\frac{TN}{N}$$\n",
    "We can write $D_{a}^{*}$ in terms of the observed and the charactaristic:\n",
    "$$D_{a}^{+} = D_{o}^{+} \\times Sens  + D_{o}^{-} \\times (1 - Spec)$$\n",
    "and \n",
    "$$D_{a}^{-} = D_{o}^{-} \\times Spec + D_{o}^{+} \\times (1 - Sens)$$\n",
    "\n",
    "Such that we can write the full model as:\n",
    "$$P(\\theta \\vert D_{a}, a_{\\theta}, b_{\\theta}) \\sim \\beta(D_{a}^{+} + a_{\\theta}, D_{a}^{-} + b_{\\theta})$$\n",
    "\n",
    "With priors:\n",
    "\n",
    "$$P(Sens) \\sim \\beta(a_{Sens}, b_{Sens})$$\n",
    ".\n",
    "$$P(Spec) \\sim \\beta(a_{Spec}, b_{Spec})$$\n",
    ".\n",
    "$$P(\\theta) \\sim \\beta(a_{\\theta}, b_{\\theta})$$\n",
    "\n",
    "From this model, we need only place priors (can be uninformative, or 'flat') on test sensitivity, specificity, and $\\theta$ via hyperparameters $a_{Sens}, b_{Sens}, a_{Spec}, b_{Spec}, a_{\\theta}$, and $b_{\\theta}$ in order to estimate the posterior distribution of $\\theta$ given the observed test data."
   ]
  },
  {
   "cell_type": "code",
   "execution_count": 1,
   "metadata": {},
   "outputs": [
    {
     "name": "stdout",
     "output_type": "stream",
     "text": [
      "Populating the interactive namespace from numpy and matplotlib\n"
     ]
    }
   ],
   "source": [
    "%pylab inline"
   ]
  },
  {
   "cell_type": "code",
   "execution_count": 2,
   "metadata": {},
   "outputs": [],
   "source": [
    "from scipy.stats import beta\n",
    "from scipy.optimize import fmin\n",
    "\n",
    "import numpy as np\n",
    "\n",
    "import ipywidgets as widgets"
   ]
  },
  {
   "cell_type": "code",
   "execution_count": 3,
   "metadata": {},
   "outputs": [],
   "source": [
    "def beta_from_q(l, u, quantiles_percent=0.95):\n",
    "    def loss(params):\n",
    "        a, b = params\n",
    "        lq = (1 - quantiles_percent) / 2\n",
    "        uq = 1 - lq\n",
    "        return ( (beta.cdf(l, a, b) - lq)**2 + (beta.cdf(u, a, b) - uq)**2 )\n",
    "\n",
    "    start_params = (1, 1)\n",
    "    fit = fmin(loss, start_params, disp=0)\n",
    "    return fit"
   ]
  },
  {
   "cell_type": "code",
   "execution_count": 4,
   "metadata": {},
   "outputs": [
    {
     "data": {
      "image/png": "[encoded data removed]",
      "text/plain": [
       "<Figure size 864x288 with 2 Axes>"
      ]
     },
     "metadata": {
      "needs_background": "light"
     },
     "output_type": "display_data"
    }
   ],
   "source": [
    "def print_estimate(p_theta):\n",
    "    mean_p = p_theta.mean()\n",
    "    ci = np.percentile(p_theta, q=[2.5, 97.5])\n",
    "    return f\"Posterior θ (mean [95%CI]): {mean_p:.3f} [{ci[0]:.3f}-{ci[1]:.3f}]\"\n",
    "\n",
    "    \n",
    "def theta_unknown_test(d_o_plus, d_o_neg, sens_bounds, spec_bounds, theta_bounds):\n",
    "    \"\"\"Draw samples from posterior distribution of θ under\n",
    "    prior assumptions on test charactaristics.\"\"\"\n",
    "\n",
    "    boot_n = 10000\n",
    "    sens_prior = beta_from_q(sens_bounds[0], sens_bounds[1])\n",
    "    spec_prior = beta_from_q(spec_bounds[0], spec_bounds[1])\n",
    "    theta_prior = beta_from_q(theta_bounds[0], theta_bounds[1])\n",
    "\n",
    "    sens = beta.rvs(sens_prior[0], sens_prior[1], size=boot_n)\n",
    "    spec = beta.rvs(spec_prior[0], spec_prior[1], size=boot_n)\n",
    "\n",
    "    d_a_plus = d_o_plus * sens + d_o_neg * (1-spec)\n",
    "    d_a_neg = d_o_neg * spec + d_o_plus * (1-sens)\n",
    "\n",
    "    p_theta = beta.rvs(d_a_plus + theta_prior[0], d_a_neg + theta_prior[1])\n",
    "\n",
    "    fig, axx = plt.subplots(1,2, figsize=(12,4))\n",
    "\n",
    "    #x_dens = np.linspace(p_theta.min(), p_theta.max())\n",
    "    x_dens = np.linspace(0,1,500)\n",
    "    y_dens_theta = beta.pdf(x_dens, theta_prior[0], theta_prior[1])\n",
    "    y_dens_naive= beta.pdf(x_dens, d_o_plus + 1, d_o_neg + 1)\n",
    "\n",
    "    ax = axx[0]\n",
    "    ax.hist(p_theta, bins=100, density=True, label=\"θ Posterior\");\n",
    "    ax.plot(x_dens, y_dens_theta, label='θ Prior');\n",
    "    ax.plot(x_dens, y_dens_naive, label='θ naïve estimate');\n",
    "    ax.set_xlim(0,1)\n",
    "    ax.legend(loc=0)\n",
    "    ax.set_title(print_estimate(p_theta))\n",
    "    \n",
    "    ax = axx[1]\n",
    "    ax.hist(p_theta, bins=100, density=True, label=\"θ Posterior\");\n",
    "    ax.plot(x_dens, y_dens_theta, label='θ Prior');\n",
    "    ax.plot(x_dens, y_dens_naive, label='θ naïve estimate');\n",
    "    lims = np.percentile(p_theta, q=[2, 98])\n",
    "    ax.set_xlim(lims[0],lims[1])\n",
    "    ax.legend(loc=0)\n",
    "    ax.set_title('Zoomed in')\n",
    "    \n",
    "    plt.show()\n",
    "    \n",
    "    \n",
    "theta_unknown_test(22, 739, sens_bounds=[0.8,0.999], spec_bounds=[0.8,0.999], theta_bounds=[0.0,0.3])"
   ]
  },
  {
   "cell_type": "markdown",
   "metadata": {},
   "source": [
    "### Interactive Version"
   ]
  },
  {
   "cell_type": "code",
   "execution_count": 5,
   "metadata": {},
   "outputs": [
    {
     "data": {
      "application/vnd.jupyter.widget-view+json": {
       "model_id": "d72249009a704653bc8082ecf11c204d",
       "version_major": 2,
       "version_minor": 0
      },
      "text/plain": [
       "interactive(children=(IntText(value=22, description='Positive Tests'), IntText(value=739, description='Negativ…"
      ]
     },
     "metadata": {},
     "output_type": "display_data"
    }
   ],
   "source": [
    "@widgets.interact(d_o_plus=widgets.IntText(\n",
    "              min=0, max=1000, step=1, value=22, description='Positive Tests'),\n",
    "          d_o_neg=widgets.IntText(\n",
    "              min=0, max=1000, step=1, value=761-22, description='Negative Tests'), \n",
    "          sens_bounds=widgets.FloatRangeSlider(\n",
    "              min=0.0, max=1.0, step=0.01, value=[0.5, 0.975], description=\"Sensitivity\"),\n",
    "          spec_bounds=widgets.FloatRangeSlider(\n",
    "              min=0.0, max=1.0, step=0.01, value=[0.5, 0.975], description=\"Specificity\"),\n",
    "          theta_bounds=widgets.FloatRangeSlider(\n",
    "              min=0.001, max=0.99, step=0.01, value=[0.0, 0.5], description=\"θ Prior\"))\n",
    "def interactive_theta_unknown_test(d_o_plus, d_o_neg, sens_bounds, spec_bounds, theta_bounds):\n",
    "    theta_unknown_test(d_o_plus, d_o_neg, sens_bounds, spec_bounds, theta_bounds)"
   ]
  },
  {
   "cell_type": "code",
   "execution_count": null,
   "metadata": {},
   "outputs": [],
   "source": []
  }
 ],
 "metadata": {
  "kernelspec": {
   "display_name": "Python 3",
   "language": "python",
   "name": "python3"
  },
  "language_info": {
   "codemirror_mode": {
    "name": "ipython",
    "version": 3
   },
   "file_extension": ".py",
   "mimetype": "text/x-python",
   "name": "python",
   "nbconvert_exporter": "python",
   "pygments_lexer": "ipython3",
   "version": "3.7.4"
  }
 },
 "nbformat": 4,
 "nbformat_minor": 2
}
